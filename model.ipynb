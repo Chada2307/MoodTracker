{
  "nbformat": 4,
  "nbformat_minor": 0,
  "metadata": {
    "colab": {
      "provenance": [],
      "gpuType": "T4",
      "mount_file_id": "1uYIZD95PuvQmISDXbrMHeS60oxXzkBaf",
      "authorship_tag": "ABX9TyN/NQtxCWrju2umap4iuWis",
      "include_colab_link": true
    },
    "kernelspec": {
      "name": "python3",
      "display_name": "Python 3"
    },
    "language_info": {
      "name": "python"
    },
    "accelerator": "GPU"
  },
  "cells": [
    {
      "cell_type": "markdown",
      "metadata": {
        "id": "view-in-github",
        "colab_type": "text"
      },
      "source": [
        "<a href=\"https://colab.research.google.com/github/Chada2307/MoodTracker/blob/main/model.ipynb\" target=\"_parent\"><img src=\"https://colab.research.google.com/assets/colab-badge.svg\" alt=\"Open In Colab\"/></a>"
      ]
    },
    {
      "cell_type": "code",
      "execution_count": null,
      "metadata": {
        "id": "yOVHMu0V80uS"
      },
      "outputs": [],
      "source": [
        "from google.colab import drive\n",
        "import zipfile\n",
        "import os\n",
        "import torch\n",
        "from torchvision import datasets, transforms\n",
        "from torch.utils.data import DataLoader\n",
        "import matplotlib.pyplot as plt\n",
        "\n",
        "##drive.mount('/content')  # Podłączanie Dysku Google\n",
        "data_path = \"/content/drive/MyDrive/ColabNotebooks/Kolo/Projekt/archive.zip\"  # Ścieżka do pliku\n",
        "\n",
        "\n",
        "with zipfile.ZipFile(data_path, 'r') as zip_ref:\n",
        "    zip_ref.extractall(\"/content\")"
      ]
    },
    {
      "cell_type": "code",
      "source": [
        "os.listdir(\"/content/test\")"
      ],
      "metadata": {
        "colab": {
          "base_uri": "https://localhost:8080/"
        },
        "id": "R0Yz2fTuEVfr",
        "outputId": "314c2281-54d4-4703-d50d-3d4ede1a6581"
      },
      "execution_count": null,
      "outputs": [
        {
          "output_type": "execute_result",
          "data": {
            "text/plain": [
              "['neutral', 'angry', 'surprise', 'happy', 'disgust', 'sad', 'fear']"
            ]
          },
          "metadata": {},
          "execution_count": 2
        }
      ]
    },
    {
      "cell_type": "code",
      "source": [
        "class EarlyStopping:\n",
        "    def __init__(self, patience=5, verbose=False, delta=0, path='best_model.pth'):\n",
        "        self.patience = patience  # ile epok czekamy zanim przerwiemy\n",
        "        self.verbose = verbose\n",
        "        self.counter = 0\n",
        "        self.best_score = None\n",
        "        self.early_stop = False\n",
        "        self.val_loss_min = float('inf')\n",
        "        self.delta = delta\n",
        "        self.path = path\n",
        "\n",
        "    def __call__(self, val_loss, model):\n",
        "        score = -val_loss  # im mniejszy loss, tym lepiej\n",
        "\n",
        "        if self.best_score is None:\n",
        "            self.best_score = score\n",
        "            self.save_checkpoint(val_loss, model)\n",
        "        elif score < self.best_score + self.delta:\n",
        "            self.counter += 1\n",
        "            if self.verbose:\n",
        "                print(f\"EarlyStopping counter: {self.counter} / {self.patience}\")\n",
        "            if self.counter >= self.patience:\n",
        "                self.early_stop = True\n",
        "        else:\n",
        "            self.best_score = score\n",
        "            self.save_checkpoint(val_loss, model)\n",
        "            self.counter = 0\n",
        "\n",
        "    def save_checkpoint(self, val_loss, model):\n",
        "        if self.verbose:\n",
        "            print(f\"Validation loss decreased ({self.val_loss_min:.6f} → {val_loss:.6f}). Saving model ...\")\n",
        "        torch.save(model.state_dict(), self.path)\n",
        "        self.val_loss_min = val_loss"
      ],
      "metadata": {
        "id": "q2oXzkI4PsoM"
      },
      "execution_count": null,
      "outputs": []
    },
    {
      "cell_type": "code",
      "source": [
        "\n",
        "\n",
        "transform_train = transforms.Compose([\n",
        "    transforms.Grayscale(num_output_channels=1),\n",
        "    transforms.Resize((48, 48)),\n",
        "    transforms.RandomHorizontalFlip(),\n",
        "    transforms.RandomResizedCrop(48, scale=(0.9, 1.0)),\n",
        "    transforms.RandomRotation(10),\n",
        "    transforms.ToTensor(),\n",
        "    transforms.Normalize((0.5,), (0.5,))\n",
        "\n",
        "])\n",
        "\n",
        "transform = transforms.Compose([\n",
        "    transforms.Grayscale(num_output_channels=1),\n",
        "    transforms.ToTensor(),\n",
        "    transforms.Normalize((0.5), (0.5))\n",
        "])\n",
        "data_dir = \"/content\"\n",
        "\n",
        "batch_size=64\n",
        "\n",
        "\n",
        "train_dataset = datasets.ImageFolder(root=f\"{data_dir}/train\", transform=transform_train)\n",
        "test_dataset = datasets.ImageFolder(root=f\"{data_dir}/test\", transform=transform)\n",
        "\n",
        "train_loader = DataLoader(train_dataset, batch_size=batch_size, shuffle=True)\n",
        "test_loader = DataLoader(test_dataset, batch_size=batch_size, shuffle=False)\n",
        "\n",
        "print(f\"Train dataset size: {len(train_dataset)} images\")\n",
        "print(f\"Test dataset size: {len(test_dataset)} images\")\n",
        "\n",
        "print(os.cpu_count())"
      ],
      "metadata": {
        "colab": {
          "base_uri": "https://localhost:8080/"
        },
        "id": "mR9dHNoW6uOg",
        "outputId": "d2a1a1d6-dda7-41df-eb08-9c4a438b7538"
      },
      "execution_count": null,
      "outputs": [
        {
          "output_type": "stream",
          "name": "stdout",
          "text": [
            "Train dataset size: 28709 images\n",
            "Test dataset size: 7178 images\n",
            "2\n"
          ]
        }
      ]
    },
    {
      "cell_type": "code",
      "source": [
        "dataiter = iter(train_loader)\n",
        "images, labels = next(dataiter)\n",
        "\n",
        "fig, axes = plt.subplots(1, 5, figsize = (12,4))\n",
        "\n",
        "for i in range(5):\n",
        "  img = images[i].squeeze().numpy()\n",
        "  axes[i].imshow(img, cmap='gray')\n",
        "  axes[i].set_title(f\"Label: {labels[i].item()}\")\n",
        "  axes[i].axis('off')\n",
        "plt.show()\n",
        "\n",
        "dataiter1 = iter(test_loader)\n",
        "images, labels = next(dataiter1)\n",
        "\n",
        "fig, axes = plt.subplots(1, 5, figsize = (12,4))\n",
        "\n",
        "for i in range(5):\n",
        "  img = images[i].squeeze().numpy()\n",
        "  axes[i].imshow(img, cmap='gray')\n",
        "  axes[i].set_title(f\"Label: {labels[i].item()}\")\n",
        "  axes[i].axis('off')\n",
        "plt.show()"
      ],
      "metadata": {
        "colab": {
          "base_uri": "https://localhost:8080/",
          "height": 421
        },
        "id": "6mohevX97VWb",
        "outputId": "216325d7-3855-462e-e3cd-694434b91899"
      },
      "execution_count": null,
      "outputs": [
        {
          "output_type": "display_data",
          "data": {
            "text/plain": [
              "<Figure size 1200x400 with 5 Axes>"
            ],
            "image/png": "[encoded data removed]"
          },
          "metadata": {}
        },
        {
          "output_type": "display_data",
          "data": {
            "text/plain": [
              "<Figure size 1200x400 with 5 Axes>"
            ],
            "image/png": "[encoded data removed]"
          },
          "metadata": {}
        }
      ]
    },
    {
      "cell_type": "code",
      "source": [
        "import torch.nn as nn\n",
        "import torch.nn.functional as F\n",
        "\n",
        "class EmocjeCNN(nn.Module):\n",
        "  def __init__(self):\n",
        "    super(EmocjeCNN,self).__init__()\n",
        "\n",
        "    self.conv1 = nn.Conv2d(1, 32, kernel_size=3, padding=1)\n",
        "    self.bn1 = nn.BatchNorm2d(32)\n",
        "    self.conv2 = nn.Conv2d(32, 64, kernel_size=3, padding=1)\n",
        "    self.bn2 = nn.BatchNorm2d(64)\n",
        "    self.conv3 = nn.Conv2d(64, 128, kernel_size=3, padding=1)\n",
        "    self.bn3 = nn.BatchNorm2d(128)\n",
        "\n",
        "    self.pool = nn.MaxPool2d(2,2)\n",
        "    self.fc1 = nn.Linear(128 * 6 * 6 , 256)\n",
        "    self.dropout = nn.Dropout(0.4)\n",
        "    self.fc2 = nn.Linear(256, 7)\n",
        "\n",
        "  def forward(self,x):\n",
        "    x = self.pool(F.relu(self.bn1(self.conv1(x))))\n",
        "    x = self.pool(F.relu(self.bn2(self.conv2(x))))\n",
        "    x = self.pool(F.relu(self.bn3(self.conv3(x))))\n",
        "    x = x.view(-1, 128 * 6 * 6)\n",
        "    x = F.relu(self.fc1(x))\n",
        "    x = self.dropout(x)\n",
        "    x = self.fc2(x)\n",
        "\n",
        "    return x"
      ],
      "metadata": {
        "id": "7kiF6GFS8Juk"
      },
      "execution_count": null,
      "outputs": []
    },
    {
      "cell_type": "code",
      "source": [
        "\n",
        "import torch.optim as optim\n",
        "\n",
        "device = torch.device(\"cuda\" if torch.cuda.is_available() else \"cpu\")\n",
        "model = EmocjeCNN().to(device)\n",
        "\n",
        "kryteria = nn.CrossEntropyLoss()\n",
        "optimizer = optim.SGD(model.parameters(), lr=0.01, momentum=0.9, weight_decay=1e-3)\n",
        "\n",
        "print(\"GPU dostępne:\", torch.cuda.is_available())\n",
        "print(\"Nazwa GPU:\", torch.cuda.get_device_name(0) if torch.cuda.is_available() else \"Brak GPU\")\n",
        "\n",
        "device = torch.device(\"cuda\" if torch.cuda.is_available() else \"cpu\")\n",
        "train_accuracies = []\n",
        "test_accuracies = []\n",
        "train_losses = []\n",
        "test_losses = []\n",
        "\n"
      ],
      "metadata": {
        "colab": {
          "base_uri": "https://localhost:8080/"
        },
        "id": "Y_j_pHPW9cx6",
        "outputId": "c7cdbd11-4d81-4988-b30e-b32ed1b9d644"
      },
      "execution_count": null,
      "outputs": [
        {
          "output_type": "stream",
          "name": "stdout",
          "text": [
            "GPU dostępne: True\n",
            "Nazwa GPU: Tesla T4\n"
          ]
        }
      ]
    },
    {
      "cell_type": "code",
      "source": [
        "checkpoint = torch.load('/content/model_checkpoint.pth')\n",
        "\n",
        "# Załadowanie stanu modelu i optymalizatora\n",
        "model.load_state_dict(checkpoint['model_state_dict'])\n",
        "optimizer.load_state_dict(checkpoint['optimizer_state_dict'])\n",
        "\n",
        "# Kontynuowanie treningu\n",
        "start_epoch = checkpoint['epoch'] + 1\n",
        "train_loss = checkpoint['train_loss']\n",
        "test_loss = checkpoint['test_loss']\n",
        "early_stopping_counter = 0\n",
        "print(f\"Model loaded\")"
      ],
      "metadata": {
        "id": "a5n91AK04TiI",
        "colab": {
          "base_uri": "https://localhost:8080/"
        },
        "outputId": "ba6d3845-96cb-43b2-d7fe-a4ec08f4d382"
      },
      "execution_count": null,
      "outputs": [
        {
          "output_type": "stream",
          "name": "stdout",
          "text": [
            "Model loaded\n"
          ]
        }
      ]
    },
    {
      "cell_type": "code",
      "source": [
        "early_stopping = EarlyStopping(patience=10, verbose=True, path='best_model.pth')"
      ],
      "metadata": {
        "id": "dyP18p3vP0kN"
      },
      "execution_count": null,
      "outputs": []
    },
    {
      "cell_type": "code",
      "source": [
        "from tqdm import tqdm\n",
        "\n",
        "\n",
        "\n",
        "\n",
        "num_epochs = 50\n",
        "for epoch in range(num_epochs):\n",
        "    model.train()\n",
        "    correct = 0\n",
        "    total = 0\n",
        "    running_loss = 0.0\n",
        "\n",
        "    for images, labels in tqdm(train_loader, desc = \"training\"):\n",
        "        images, labels = images.to(device), labels.to(device)\n",
        "\n",
        "        optimizer.zero_grad()\n",
        "        outputs = model(images)\n",
        "        loss = kryteria(outputs, labels)\n",
        "        loss.backward()\n",
        "        optimizer.step()\n",
        "\n",
        "        running_loss += loss.item() * images.size(0)\n",
        "\n",
        "        _, predicted = torch.max(outputs.data, 1)\n",
        "        total += labels.size(0)\n",
        "        correct += (predicted == labels).sum().item()\n",
        "\n",
        "    train_acc = 100 * correct / total\n",
        "    train_loss = running_loss / total\n",
        "\n",
        "\n",
        "    model.eval()\n",
        "    correct_test = 0\n",
        "    total_test = 0\n",
        "    test_running_loss = 0.0\n",
        "\n",
        "    with torch.no_grad():\n",
        "        for images, labels in tqdm(test_loader, desc = \"validation\"):\n",
        "            images, labels = images.to(device), labels.to(device)\n",
        "            outputs = model(images)\n",
        "            loss = kryteria(outputs, labels)\n",
        "\n",
        "            test_running_loss += loss.item() * images.size(0)\n",
        "\n",
        "            _, predicted = torch.max(outputs.data, 1)\n",
        "            total_test += labels.size(0)\n",
        "            correct_test += (predicted == labels).sum().item()\n",
        "\n",
        "    test_acc = 100 * correct_test / total_test\n",
        "    test_loss = test_running_loss / total_test\n",
        "\n",
        "\n",
        "    train_accuracies.append(train_acc)\n",
        "    test_accuracies.append(test_acc)\n",
        "    train_losses.append(train_loss)\n",
        "    test_losses.append(test_loss)\n",
        "\n",
        "    print(f\"Epoch [{epoch+1}/{num_epochs}]\")\n",
        "    print(f\"Train Accuracy: {train_acc:.2f}%, Loss: {train_loss:.4f}\")\n",
        "    print(f\"Test Accuracy: {test_acc:.2f}%, Loss: {test_loss:.4f}\")\n",
        "    print(\"-\" * 40)\n",
        "\n",
        "\n",
        "    ##early_stopping(test_loss, model)\n",
        "\n",
        "   ## if early_stopping.early_stop:\n",
        "     ##   print(\"Wczesne zatrzymanie treningu! ⛔\")\n",
        "     ##   break\n",
        "\n",
        "\n",
        "\n",
        "\n",
        "    torch.save({\n",
        "    'epoch': epoch,\n",
        "    'model_state_dict': model.state_dict(),\n",
        "    'optimizer_state_dict': optimizer.state_dict(),\n",
        "    'train_loss': train_loss,\n",
        "    'test_loss': test_loss,\n",
        "    }, 'model_checkpoint.pth')"
      ],
      "metadata": {
        "colab": {
          "base_uri": "https://localhost:8080/"
        },
        "id": "Hq0HttKx1FOi",
        "outputId": "ccdfb588-ac8f-4e02-f115-99cec5987f7a"
      },
      "execution_count": null,
      "outputs": [
        {
          "output_type": "stream",
          "name": "stderr",
          "text": [
            "training: 100%|██████████| 449/449 [00:26<00:00, 16.89it/s]\n",
            "validation: 100%|██████████| 113/113 [00:03<00:00, 33.59it/s]\n"
          ]
        },
        {
          "output_type": "stream",
          "name": "stdout",
          "text": [
            "Epoch [1/50]\n",
            "Train Accuracy: 62.59%, Loss: 0.9946\n",
            "Test Accuracy: 61.83%, Loss: 1.0062\n",
            "----------------------------------------\n"
          ]
        },
        {
          "output_type": "stream",
          "name": "stderr",
          "text": [
            "training: 100%|██████████| 449/449 [00:27<00:00, 16.19it/s]\n",
            "validation: 100%|██████████| 113/113 [00:03<00:00, 37.32it/s]\n"
          ]
        },
        {
          "output_type": "stream",
          "name": "stdout",
          "text": [
            "Epoch [2/50]\n",
            "Train Accuracy: 62.77%, Loss: 0.9971\n",
            "Test Accuracy: 62.16%, Loss: 1.0186\n",
            "----------------------------------------\n"
          ]
        },
        {
          "output_type": "stream",
          "name": "stderr",
          "text": [
            "training: 100%|██████████| 449/449 [00:26<00:00, 16.84it/s]\n",
            "validation: 100%|██████████| 113/113 [00:03<00:00, 37.18it/s]\n"
          ]
        },
        {
          "output_type": "stream",
          "name": "stdout",
          "text": [
            "Epoch [3/50]\n",
            "Train Accuracy: 62.79%, Loss: 0.9960\n",
            "Test Accuracy: 61.37%, Loss: 1.0279\n",
            "----------------------------------------\n"
          ]
        },
        {
          "output_type": "stream",
          "name": "stderr",
          "text": [
            "training: 100%|██████████| 449/449 [00:26<00:00, 16.74it/s]\n",
            "validation: 100%|██████████| 113/113 [00:03<00:00, 36.81it/s]\n"
          ]
        },
        {
          "output_type": "stream",
          "name": "stdout",
          "text": [
            "Epoch [4/50]\n",
            "Train Accuracy: 63.00%, Loss: 0.9904\n",
            "Test Accuracy: 60.76%, Loss: 1.0468\n",
            "----------------------------------------\n"
          ]
        },
        {
          "output_type": "stream",
          "name": "stderr",
          "text": [
            "training: 100%|██████████| 449/449 [00:27<00:00, 16.57it/s]\n",
            "validation: 100%|██████████| 113/113 [00:03<00:00, 31.20it/s]\n"
          ]
        },
        {
          "output_type": "stream",
          "name": "stdout",
          "text": [
            "Epoch [5/50]\n",
            "Train Accuracy: 62.92%, Loss: 0.9932\n",
            "Test Accuracy: 61.01%, Loss: 1.0383\n",
            "----------------------------------------\n"
          ]
        },
        {
          "output_type": "stream",
          "name": "stderr",
          "text": [
            "training: 100%|██████████| 449/449 [00:27<00:00, 16.53it/s]\n",
            "validation: 100%|██████████| 113/113 [00:03<00:00, 36.68it/s]\n"
          ]
        },
        {
          "output_type": "stream",
          "name": "stdout",
          "text": [
            "Epoch [6/50]\n",
            "Train Accuracy: 63.12%, Loss: 0.9831\n",
            "Test Accuracy: 61.02%, Loss: 1.0372\n",
            "----------------------------------------\n"
          ]
        },
        {
          "output_type": "stream",
          "name": "stderr",
          "text": [
            "training: 100%|██████████| 449/449 [00:27<00:00, 16.42it/s]\n",
            "validation: 100%|██████████| 113/113 [00:03<00:00, 37.16it/s]\n"
          ]
        },
        {
          "output_type": "stream",
          "name": "stdout",
          "text": [
            "Epoch [7/50]\n",
            "Train Accuracy: 63.59%, Loss: 0.9761\n",
            "Test Accuracy: 61.66%, Loss: 1.0278\n",
            "----------------------------------------\n"
          ]
        },
        {
          "output_type": "stream",
          "name": "stderr",
          "text": [
            "training: 100%|██████████| 449/449 [00:28<00:00, 15.78it/s]\n",
            "validation: 100%|██████████| 113/113 [00:03<00:00, 33.07it/s]\n"
          ]
        },
        {
          "output_type": "stream",
          "name": "stdout",
          "text": [
            "Epoch [8/50]\n",
            "Train Accuracy: 63.21%, Loss: 0.9797\n",
            "Test Accuracy: 62.83%, Loss: 0.9938\n",
            "----------------------------------------\n"
          ]
        },
        {
          "output_type": "stream",
          "name": "stderr",
          "text": [
            "training: 100%|██████████| 449/449 [00:26<00:00, 16.85it/s]\n",
            "validation: 100%|██████████| 113/113 [00:03<00:00, 37.26it/s]\n"
          ]
        },
        {
          "output_type": "stream",
          "name": "stdout",
          "text": [
            "Epoch [9/50]\n",
            "Train Accuracy: 63.42%, Loss: 0.9773\n",
            "Test Accuracy: 62.34%, Loss: 1.0111\n",
            "----------------------------------------\n"
          ]
        },
        {
          "output_type": "stream",
          "name": "stderr",
          "text": [
            "training: 100%|██████████| 449/449 [00:26<00:00, 16.78it/s]\n",
            "validation: 100%|██████████| 113/113 [00:03<00:00, 37.04it/s]\n"
          ]
        },
        {
          "output_type": "stream",
          "name": "stdout",
          "text": [
            "Epoch [10/50]\n",
            "Train Accuracy: 63.62%, Loss: 0.9699\n",
            "Test Accuracy: 62.32%, Loss: 0.9997\n",
            "----------------------------------------\n"
          ]
        },
        {
          "output_type": "stream",
          "name": "stderr",
          "text": [
            "training: 100%|██████████| 449/449 [00:26<00:00, 16.99it/s]\n",
            "validation: 100%|██████████| 113/113 [00:03<00:00, 29.74it/s]\n"
          ]
        },
        {
          "output_type": "stream",
          "name": "stdout",
          "text": [
            "Epoch [11/50]\n",
            "Train Accuracy: 63.91%, Loss: 0.9674\n",
            "Test Accuracy: 61.21%, Loss: 1.0314\n",
            "----------------------------------------\n"
          ]
        },
        {
          "output_type": "stream",
          "name": "stderr",
          "text": [
            "training: 100%|██████████| 449/449 [00:26<00:00, 16.88it/s]\n",
            "validation: 100%|██████████| 113/113 [00:03<00:00, 37.16it/s]\n"
          ]
        },
        {
          "output_type": "stream",
          "name": "stdout",
          "text": [
            "Epoch [12/50]\n",
            "Train Accuracy: 63.91%, Loss: 0.9676\n",
            "Test Accuracy: 62.34%, Loss: 1.0065\n",
            "----------------------------------------\n"
          ]
        },
        {
          "output_type": "stream",
          "name": "stderr",
          "text": [
            "training: 100%|██████████| 449/449 [00:26<00:00, 16.79it/s]\n",
            "validation: 100%|██████████| 113/113 [00:03<00:00, 35.94it/s]\n"
          ]
        },
        {
          "output_type": "stream",
          "name": "stdout",
          "text": [
            "Epoch [13/50]\n",
            "Train Accuracy: 63.90%, Loss: 0.9682\n",
            "Test Accuracy: 62.83%, Loss: 1.0098\n",
            "----------------------------------------\n"
          ]
        },
        {
          "output_type": "stream",
          "name": "stderr",
          "text": [
            "training: 100%|██████████| 449/449 [00:27<00:00, 16.44it/s]\n",
            "validation: 100%|██████████| 113/113 [00:03<00:00, 31.23it/s]\n"
          ]
        },
        {
          "output_type": "stream",
          "name": "stdout",
          "text": [
            "Epoch [14/50]\n",
            "Train Accuracy: 64.04%, Loss: 0.9592\n",
            "Test Accuracy: 62.06%, Loss: 1.0336\n",
            "----------------------------------------\n"
          ]
        },
        {
          "output_type": "stream",
          "name": "stderr",
          "text": [
            "training: 100%|██████████| 449/449 [00:27<00:00, 16.54it/s]\n",
            "validation: 100%|██████████| 113/113 [00:03<00:00, 37.43it/s]\n"
          ]
        },
        {
          "output_type": "stream",
          "name": "stdout",
          "text": [
            "Epoch [15/50]\n",
            "Train Accuracy: 63.99%, Loss: 0.9624\n",
            "Test Accuracy: 60.94%, Loss: 1.0344\n",
            "----------------------------------------\n"
          ]
        },
        {
          "output_type": "stream",
          "name": "stderr",
          "text": [
            "training: 100%|██████████| 449/449 [00:26<00:00, 16.70it/s]\n",
            "validation: 100%|██████████| 113/113 [00:03<00:00, 37.35it/s]\n"
          ]
        },
        {
          "output_type": "stream",
          "name": "stdout",
          "text": [
            "Epoch [16/50]\n",
            "Train Accuracy: 63.96%, Loss: 0.9610\n",
            "Test Accuracy: 61.31%, Loss: 1.0334\n",
            "----------------------------------------\n"
          ]
        },
        {
          "output_type": "stream",
          "name": "stderr",
          "text": [
            "training: 100%|██████████| 449/449 [00:26<00:00, 16.78it/s]\n",
            "validation: 100%|██████████| 113/113 [00:03<00:00, 36.21it/s]\n"
          ]
        },
        {
          "output_type": "stream",
          "name": "stdout",
          "text": [
            "Epoch [17/50]\n",
            "Train Accuracy: 64.11%, Loss: 0.9603\n",
            "Test Accuracy: 62.51%, Loss: 1.0053\n",
            "----------------------------------------\n"
          ]
        },
        {
          "output_type": "stream",
          "name": "stderr",
          "text": [
            "training: 100%|██████████| 449/449 [00:26<00:00, 16.73it/s]\n",
            "validation: 100%|██████████| 113/113 [00:03<00:00, 31.65it/s]\n"
          ]
        },
        {
          "output_type": "stream",
          "name": "stdout",
          "text": [
            "Epoch [18/50]\n",
            "Train Accuracy: 64.60%, Loss: 0.9518\n",
            "Test Accuracy: 62.29%, Loss: 1.0040\n",
            "----------------------------------------\n"
          ]
        },
        {
          "output_type": "stream",
          "name": "stderr",
          "text": [
            "training: 100%|██████████| 449/449 [00:26<00:00, 16.86it/s]\n",
            "validation: 100%|██████████| 113/113 [00:02<00:00, 37.83it/s]\n"
          ]
        },
        {
          "output_type": "stream",
          "name": "stdout",
          "text": [
            "Epoch [19/50]\n",
            "Train Accuracy: 64.01%, Loss: 0.9557\n",
            "Test Accuracy: 61.08%, Loss: 1.0191\n",
            "----------------------------------------\n"
          ]
        },
        {
          "output_type": "stream",
          "name": "stderr",
          "text": [
            "training: 100%|██████████| 449/449 [00:27<00:00, 16.20it/s]\n",
            "validation: 100%|██████████| 113/113 [00:03<00:00, 37.60it/s]\n"
          ]
        },
        {
          "output_type": "stream",
          "name": "stdout",
          "text": [
            "Epoch [20/50]\n",
            "Train Accuracy: 64.37%, Loss: 0.9519\n",
            "Test Accuracy: 61.81%, Loss: 1.0111\n",
            "----------------------------------------\n"
          ]
        },
        {
          "output_type": "stream",
          "name": "stderr",
          "text": [
            "training: 100%|██████████| 449/449 [00:26<00:00, 16.90it/s]\n",
            "validation: 100%|██████████| 113/113 [00:03<00:00, 32.82it/s]\n"
          ]
        },
        {
          "output_type": "stream",
          "name": "stdout",
          "text": [
            "Epoch [21/50]\n",
            "Train Accuracy: 64.23%, Loss: 0.9513\n",
            "Test Accuracy: 62.11%, Loss: 1.0040\n",
            "----------------------------------------\n"
          ]
        },
        {
          "output_type": "stream",
          "name": "stderr",
          "text": [
            "training: 100%|██████████| 449/449 [00:26<00:00, 16.84it/s]\n",
            "validation: 100%|██████████| 113/113 [00:03<00:00, 34.29it/s]\n"
          ]
        },
        {
          "output_type": "stream",
          "name": "stdout",
          "text": [
            "Epoch [22/50]\n",
            "Train Accuracy: 64.71%, Loss: 0.9428\n",
            "Test Accuracy: 62.68%, Loss: 1.0184\n",
            "----------------------------------------\n"
          ]
        },
        {
          "output_type": "stream",
          "name": "stderr",
          "text": [
            "training: 100%|██████████| 449/449 [00:26<00:00, 16.80it/s]\n",
            "validation: 100%|██████████| 113/113 [00:03<00:00, 36.82it/s]\n"
          ]
        },
        {
          "output_type": "stream",
          "name": "stdout",
          "text": [
            "Epoch [23/50]\n",
            "Train Accuracy: 64.67%, Loss: 0.9486\n",
            "Test Accuracy: 62.25%, Loss: 1.0099\n",
            "----------------------------------------\n"
          ]
        },
        {
          "output_type": "stream",
          "name": "stderr",
          "text": [
            "training: 100%|██████████| 449/449 [00:26<00:00, 16.64it/s]\n",
            "validation: 100%|██████████| 113/113 [00:03<00:00, 36.51it/s]\n"
          ]
        },
        {
          "output_type": "stream",
          "name": "stdout",
          "text": [
            "Epoch [24/50]\n",
            "Train Accuracy: 64.73%, Loss: 0.9426\n",
            "Test Accuracy: 61.23%, Loss: 1.0318\n",
            "----------------------------------------\n"
          ]
        },
        {
          "output_type": "stream",
          "name": "stderr",
          "text": [
            "training: 100%|██████████| 449/449 [00:26<00:00, 16.72it/s]\n",
            "validation: 100%|██████████| 113/113 [00:03<00:00, 31.30it/s]\n"
          ]
        },
        {
          "output_type": "stream",
          "name": "stdout",
          "text": [
            "Epoch [25/50]\n",
            "Train Accuracy: 64.69%, Loss: 0.9470\n",
            "Test Accuracy: 62.04%, Loss: 1.0138\n",
            "----------------------------------------\n"
          ]
        },
        {
          "output_type": "stream",
          "name": "stderr",
          "text": [
            "training: 100%|██████████| 449/449 [00:27<00:00, 16.56it/s]\n",
            "validation: 100%|██████████| 113/113 [00:02<00:00, 38.34it/s]\n"
          ]
        },
        {
          "output_type": "stream",
          "name": "stdout",
          "text": [
            "Epoch [26/50]\n",
            "Train Accuracy: 64.83%, Loss: 0.9364\n",
            "Test Accuracy: 61.81%, Loss: 1.0121\n",
            "----------------------------------------\n"
          ]
        },
        {
          "output_type": "stream",
          "name": "stderr",
          "text": [
            "training: 100%|██████████| 449/449 [00:26<00:00, 17.08it/s]\n",
            "validation: 100%|██████████| 113/113 [00:03<00:00, 37.20it/s]\n"
          ]
        },
        {
          "output_type": "stream",
          "name": "stdout",
          "text": [
            "Epoch [27/50]\n",
            "Train Accuracy: 64.88%, Loss: 0.9377\n",
            "Test Accuracy: 61.70%, Loss: 1.0235\n",
            "----------------------------------------\n"
          ]
        },
        {
          "output_type": "stream",
          "name": "stderr",
          "text": [
            "training: 100%|██████████| 449/449 [00:26<00:00, 16.89it/s]\n",
            "validation: 100%|██████████| 113/113 [00:03<00:00, 30.93it/s]\n"
          ]
        },
        {
          "output_type": "stream",
          "name": "stdout",
          "text": [
            "Epoch [28/50]\n",
            "Train Accuracy: 65.10%, Loss: 0.9356\n",
            "Test Accuracy: 61.31%, Loss: 1.0418\n",
            "----------------------------------------\n"
          ]
        },
        {
          "output_type": "stream",
          "name": "stderr",
          "text": [
            "training: 100%|██████████| 449/449 [00:26<00:00, 16.68it/s]\n",
            "validation: 100%|██████████| 113/113 [00:03<00:00, 37.10it/s]\n"
          ]
        },
        {
          "output_type": "stream",
          "name": "stdout",
          "text": [
            "Epoch [29/50]\n",
            "Train Accuracy: 65.14%, Loss: 0.9340\n",
            "Test Accuracy: 63.36%, Loss: 0.9928\n",
            "----------------------------------------\n"
          ]
        },
        {
          "output_type": "stream",
          "name": "stderr",
          "text": [
            "training: 100%|██████████| 449/449 [00:26<00:00, 16.92it/s]\n",
            "validation: 100%|██████████| 113/113 [00:03<00:00, 36.79it/s]\n"
          ]
        },
        {
          "output_type": "stream",
          "name": "stdout",
          "text": [
            "Epoch [30/50]\n",
            "Train Accuracy: 64.82%, Loss: 0.9348\n",
            "Test Accuracy: 62.57%, Loss: 1.0075\n",
            "----------------------------------------\n"
          ]
        },
        {
          "output_type": "stream",
          "name": "stderr",
          "text": [
            "training: 100%|██████████| 449/449 [00:26<00:00, 16.72it/s]\n",
            "validation: 100%|██████████| 113/113 [00:03<00:00, 35.39it/s]\n"
          ]
        },
        {
          "output_type": "stream",
          "name": "stdout",
          "text": [
            "Epoch [31/50]\n",
            "Train Accuracy: 65.22%, Loss: 0.9324\n",
            "Test Accuracy: 63.40%, Loss: 0.9889\n",
            "----------------------------------------\n"
          ]
        },
        {
          "output_type": "stream",
          "name": "stderr",
          "text": [
            "training: 100%|██████████| 449/449 [00:28<00:00, 15.68it/s]\n",
            "validation: 100%|██████████| 113/113 [00:03<00:00, 36.48it/s]\n"
          ]
        },
        {
          "output_type": "stream",
          "name": "stdout",
          "text": [
            "Epoch [32/50]\n",
            "Train Accuracy: 65.47%, Loss: 0.9278\n",
            "Test Accuracy: 62.12%, Loss: 1.0111\n",
            "----------------------------------------\n"
          ]
        },
        {
          "output_type": "stream",
          "name": "stderr",
          "text": [
            "training: 100%|██████████| 449/449 [00:26<00:00, 16.97it/s]\n",
            "validation: 100%|██████████| 113/113 [00:03<00:00, 37.32it/s]\n"
          ]
        },
        {
          "output_type": "stream",
          "name": "stdout",
          "text": [
            "Epoch [33/50]\n",
            "Train Accuracy: 65.08%, Loss: 0.9310\n",
            "Test Accuracy: 63.32%, Loss: 0.9920\n",
            "----------------------------------------\n"
          ]
        },
        {
          "output_type": "stream",
          "name": "stderr",
          "text": [
            "training: 100%|██████████| 449/449 [00:26<00:00, 17.12it/s]\n",
            "validation: 100%|██████████| 113/113 [00:03<00:00, 37.50it/s]\n"
          ]
        },
        {
          "output_type": "stream",
          "name": "stdout",
          "text": [
            "Epoch [34/50]\n",
            "Train Accuracy: 65.29%, Loss: 0.9273\n",
            "Test Accuracy: 62.72%, Loss: 1.0112\n",
            "----------------------------------------\n"
          ]
        },
        {
          "output_type": "stream",
          "name": "stderr",
          "text": [
            "training: 100%|██████████| 449/449 [00:26<00:00, 17.00it/s]\n",
            "validation: 100%|██████████| 113/113 [00:03<00:00, 30.25it/s]\n"
          ]
        },
        {
          "output_type": "stream",
          "name": "stdout",
          "text": [
            "Epoch [35/50]\n",
            "Train Accuracy: 65.05%, Loss: 0.9269\n",
            "Test Accuracy: 61.79%, Loss: 1.0331\n",
            "----------------------------------------\n"
          ]
        },
        {
          "output_type": "stream",
          "name": "stderr",
          "text": [
            "training: 100%|██████████| 449/449 [00:26<00:00, 17.12it/s]\n",
            "validation: 100%|██████████| 113/113 [00:02<00:00, 37.70it/s]\n"
          ]
        },
        {
          "output_type": "stream",
          "name": "stdout",
          "text": [
            "Epoch [36/50]\n",
            "Train Accuracy: 65.51%, Loss: 0.9212\n",
            "Test Accuracy: 62.89%, Loss: 1.0147\n",
            "----------------------------------------\n"
          ]
        },
        {
          "output_type": "stream",
          "name": "stderr",
          "text": [
            "training: 100%|██████████| 449/449 [00:26<00:00, 17.24it/s]\n",
            "validation: 100%|██████████| 113/113 [00:02<00:00, 37.88it/s]\n"
          ]
        },
        {
          "output_type": "stream",
          "name": "stdout",
          "text": [
            "Epoch [37/50]\n",
            "Train Accuracy: 65.58%, Loss: 0.9273\n",
            "Test Accuracy: 62.19%, Loss: 1.0256\n",
            "----------------------------------------\n"
          ]
        },
        {
          "output_type": "stream",
          "name": "stderr",
          "text": [
            "training: 100%|██████████| 449/449 [00:27<00:00, 16.34it/s]\n",
            "validation: 100%|██████████| 113/113 [00:03<00:00, 37.36it/s]\n"
          ]
        },
        {
          "output_type": "stream",
          "name": "stdout",
          "text": [
            "Epoch [38/50]\n",
            "Train Accuracy: 65.24%, Loss: 0.9237\n",
            "Test Accuracy: 62.52%, Loss: 1.0162\n",
            "----------------------------------------\n"
          ]
        },
        {
          "output_type": "stream",
          "name": "stderr",
          "text": [
            "training: 100%|██████████| 449/449 [00:26<00:00, 17.18it/s]\n",
            "validation: 100%|██████████| 113/113 [00:03<00:00, 30.31it/s]\n"
          ]
        },
        {
          "output_type": "stream",
          "name": "stdout",
          "text": [
            "Epoch [39/50]\n",
            "Train Accuracy: 65.72%, Loss: 0.9135\n",
            "Test Accuracy: 63.07%, Loss: 1.0251\n",
            "----------------------------------------\n"
          ]
        },
        {
          "output_type": "stream",
          "name": "stderr",
          "text": [
            "training: 100%|██████████| 449/449 [00:26<00:00, 17.06it/s]\n",
            "validation: 100%|██████████| 113/113 [00:02<00:00, 38.08it/s]\n"
          ]
        },
        {
          "output_type": "stream",
          "name": "stdout",
          "text": [
            "Epoch [40/50]\n",
            "Train Accuracy: 65.84%, Loss: 0.9185\n",
            "Test Accuracy: 62.90%, Loss: 1.0114\n",
            "----------------------------------------\n"
          ]
        },
        {
          "output_type": "stream",
          "name": "stderr",
          "text": [
            "training: 100%|██████████| 449/449 [00:26<00:00, 17.09it/s]\n",
            "validation: 100%|██████████| 113/113 [00:02<00:00, 38.47it/s]\n"
          ]
        },
        {
          "output_type": "stream",
          "name": "stdout",
          "text": [
            "Epoch [41/50]\n",
            "Train Accuracy: 65.13%, Loss: 0.9259\n",
            "Test Accuracy: 63.30%, Loss: 0.9859\n",
            "----------------------------------------\n"
          ]
        },
        {
          "output_type": "stream",
          "name": "stderr",
          "text": [
            "training: 100%|██████████| 449/449 [00:26<00:00, 17.11it/s]\n",
            "validation: 100%|██████████| 113/113 [00:03<00:00, 35.58it/s]\n"
          ]
        },
        {
          "output_type": "stream",
          "name": "stdout",
          "text": [
            "Epoch [42/50]\n",
            "Train Accuracy: 65.91%, Loss: 0.9100\n",
            "Test Accuracy: 62.55%, Loss: 1.0102\n",
            "----------------------------------------\n"
          ]
        },
        {
          "output_type": "stream",
          "name": "stderr",
          "text": [
            "training: 100%|██████████| 449/449 [00:26<00:00, 17.00it/s]\n",
            "validation: 100%|██████████| 113/113 [00:03<00:00, 33.66it/s]\n"
          ]
        },
        {
          "output_type": "stream",
          "name": "stdout",
          "text": [
            "Epoch [43/50]\n",
            "Train Accuracy: 65.73%, Loss: 0.9159\n",
            "Test Accuracy: 63.42%, Loss: 0.9930\n",
            "----------------------------------------\n"
          ]
        },
        {
          "output_type": "stream",
          "name": "stderr",
          "text": [
            "training: 100%|██████████| 449/449 [00:27<00:00, 16.32it/s]\n",
            "validation: 100%|██████████| 113/113 [00:02<00:00, 37.87it/s]\n"
          ]
        },
        {
          "output_type": "stream",
          "name": "stdout",
          "text": [
            "Epoch [44/50]\n",
            "Train Accuracy: 66.00%, Loss: 0.9124\n",
            "Test Accuracy: 63.14%, Loss: 0.9840\n",
            "----------------------------------------\n"
          ]
        },
        {
          "output_type": "stream",
          "name": "stderr",
          "text": [
            "training: 100%|██████████| 449/449 [00:26<00:00, 16.89it/s]\n",
            "validation: 100%|██████████| 113/113 [00:02<00:00, 37.72it/s]\n"
          ]
        },
        {
          "output_type": "stream",
          "name": "stdout",
          "text": [
            "Epoch [45/50]\n",
            "Train Accuracy: 66.14%, Loss: 0.9101\n",
            "Test Accuracy: 62.25%, Loss: 1.0385\n",
            "----------------------------------------\n"
          ]
        },
        {
          "output_type": "stream",
          "name": "stderr",
          "text": [
            "training: 100%|██████████| 449/449 [00:26<00:00, 16.76it/s]\n",
            "validation: 100%|██████████| 113/113 [00:03<00:00, 31.94it/s]\n"
          ]
        },
        {
          "output_type": "stream",
          "name": "stdout",
          "text": [
            "Epoch [46/50]\n",
            "Train Accuracy: 65.91%, Loss: 0.9107\n",
            "Test Accuracy: 63.25%, Loss: 1.0038\n",
            "----------------------------------------\n"
          ]
        },
        {
          "output_type": "stream",
          "name": "stderr",
          "text": [
            "training: 100%|██████████| 449/449 [00:26<00:00, 16.74it/s]\n",
            "validation: 100%|██████████| 113/113 [00:03<00:00, 37.05it/s]\n"
          ]
        },
        {
          "output_type": "stream",
          "name": "stdout",
          "text": [
            "Epoch [47/50]\n",
            "Train Accuracy: 65.90%, Loss: 0.9099\n",
            "Test Accuracy: 62.87%, Loss: 1.0016\n",
            "----------------------------------------\n"
          ]
        },
        {
          "output_type": "stream",
          "name": "stderr",
          "text": [
            "training: 100%|██████████| 449/449 [00:26<00:00, 16.95it/s]\n",
            "validation: 100%|██████████| 113/113 [00:03<00:00, 37.36it/s]\n"
          ]
        },
        {
          "output_type": "stream",
          "name": "stdout",
          "text": [
            "Epoch [48/50]\n",
            "Train Accuracy: 66.01%, Loss: 0.9046\n",
            "Test Accuracy: 62.58%, Loss: 1.0145\n",
            "----------------------------------------\n"
          ]
        },
        {
          "output_type": "stream",
          "name": "stderr",
          "text": [
            "training: 100%|██████████| 449/449 [00:26<00:00, 16.79it/s]\n",
            "validation: 100%|██████████| 113/113 [00:02<00:00, 38.37it/s]\n"
          ]
        },
        {
          "output_type": "stream",
          "name": "stdout",
          "text": [
            "Epoch [49/50]\n",
            "Train Accuracy: 66.18%, Loss: 0.9096\n",
            "Test Accuracy: 61.41%, Loss: 1.0363\n",
            "----------------------------------------\n"
          ]
        },
        {
          "output_type": "stream",
          "name": "stderr",
          "text": [
            "training: 100%|██████████| 449/449 [00:27<00:00, 16.40it/s]\n",
            "validation: 100%|██████████| 113/113 [00:03<00:00, 32.90it/s]"
          ]
        },
        {
          "output_type": "stream",
          "name": "stdout",
          "text": [
            "Epoch [50/50]\n",
            "Train Accuracy: 66.02%, Loss: 0.9059\n",
            "Test Accuracy: 62.57%, Loss: 1.0198\n",
            "----------------------------------------\n"
          ]
        },
        {
          "output_type": "stream",
          "name": "stderr",
          "text": [
            "\n"
          ]
        }
      ]
    },
    {
      "cell_type": "code",
      "source": [],
      "metadata": {
        "colab": {
          "base_uri": "https://localhost:8080/",
          "height": 198
        },
        "id": "YVNdeGC5RisQ",
        "outputId": "95562544-6e05-47e3-a36f-35979e0ca443"
      },
      "execution_count": null,
      "outputs": [
        {
          "output_type": "error",
          "ename": "NameError",
          "evalue": "name 'val_accuracy' is not defined",
          "traceback": [
            "\u001b[0;31m---------------------------------------------------------------------------\u001b[0m",
            "\u001b[0;31mNameError\u001b[0m                                 Traceback (most recent call last)",
            "\u001b[0;32m<ipython-input-11-bd26ff74776f>\u001b[0m in \u001b[0;36m<cell line: 0>\u001b[0;34m()\u001b[0m\n\u001b[1;32m     21\u001b[0m \u001b[0mval_accuracies\u001b[0m\u001b[0;34m.\u001b[0m\u001b[0mappend\u001b[0m\u001b[0;34m(\u001b[0m\u001b[0mcorrect_val\u001b[0m \u001b[0;34m/\u001b[0m \u001b[0mtotal_val\u001b[0m\u001b[0;34m)\u001b[0m\u001b[0;34m\u001b[0m\u001b[0;34m\u001b[0m\u001b[0m\n\u001b[1;32m     22\u001b[0m \u001b[0;34m\u001b[0m\u001b[0m\n\u001b[0;32m---> 23\u001b[0;31m \u001b[0mprint\u001b[0m\u001b[0;34m(\u001b[0m\u001b[0;34mf\"Validation Accuracy: {val_accuracy:.4f}\"\u001b[0m\u001b[0;34m)\u001b[0m\u001b[0;34m\u001b[0m\u001b[0;34m\u001b[0m\u001b[0m\n\u001b[0m\u001b[1;32m     24\u001b[0m \u001b[0mprint\u001b[0m\u001b[0;34m(\u001b[0m\u001b[0;34mf\"Average Validation Loss: {avg_val_loss:.4f}\"\u001b[0m\u001b[0;34m)\u001b[0m\u001b[0;34m\u001b[0m\u001b[0;34m\u001b[0m\u001b[0m\n",
            "\u001b[0;31mNameError\u001b[0m: name 'val_accuracy' is not defined"
          ]
        }
      ]
    },
    {
      "cell_type": "code",
      "source": [
        "import matplotlib.pyplot as plt\n",
        "\n",
        "def plot_accuracy(train_accuracies, test_accuracies):\n",
        "    epochs = range(1, len(train_accuracies) + 1)\n",
        "\n",
        "    plt.figure(figsize=(10, 6))\n",
        "    plt.plot(epochs, train_accuracies, 'o-', label='Train Accuracy')\n",
        "    plt.plot(epochs, test_accuracies, 's--', label='Test Accuracy')\n",
        "    plt.title('Train vs Test Accuracy')\n",
        "    plt.xlabel('Epoch')\n",
        "    plt.ylabel('Accuracy (%)')\n",
        "    plt.grid(True)\n",
        "    plt.legend()\n",
        "    plt.tight_layout()\n",
        "    plt.show()\n",
        "plot_accuracy(train_accuracies, test_accuracies)\n",
        "plot_accuracy(train_losses, test_losses)"
      ],
      "metadata": {
        "colab": {
          "base_uri": "https://localhost:8080/",
          "height": 1000
        },
        "id": "6CMlR2M2zquB",
        "outputId": "5c67e5f9-caa3-4116-8a07-a4db0b76ce18"
      },
      "execution_count": null,
      "outputs": [
        {
          "output_type": "display_data",
          "data": {
            "text/plain": [
              "<Figure size 1000x600 with 1 Axes>"
            ],
            "image/png": "[encoded data removed]"
          },
          "metadata": {}
        },
        {
          "output_type": "display_data",
          "data": {
            "text/plain": [
              "<Figure size 1000x600 with 1 Axes>"
            ],
            "image/png": "[encoded data removed]"
          },
          "metadata": {}
        }
      ]
    }
  ]
}